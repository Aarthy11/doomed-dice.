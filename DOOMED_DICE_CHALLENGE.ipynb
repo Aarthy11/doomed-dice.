{
  "nbformat": 4,
  "nbformat_minor": 0,
  "metadata": {
    "colab": {
      "provenance": [],
      "authorship_tag": "ABX9TyMlZ5Xj5JRlaw3Vp3YtIkok",
      "include_colab_link": true
    },
    "kernelspec": {
      "name": "python3",
      "display_name": "Python 3"
    },
    "language_info": {
      "name": "python"
    }
  },
  "cells": [
    {
      "cell_type": "markdown",
      "metadata": {
        "id": "view-in-github",
        "colab_type": "text"
      },
      "source": [
        "<a href=\"https://colab.research.google.com/github/Aarthy11/doomed-dice./blob/main/DOOMED_DICE_CHALLENGE.ipynb\" target=\"_parent\"><img src=\"https://colab.research.google.com/assets/colab-badge.svg\" alt=\"Open In Colab\"/></a>"
      ]
    },
    {
      "cell_type": "code",
      "source": [
        "#PART A\n",
        "#1\n",
        "# Define the faces of the dice\n",
        "faces = range(1, 7)\n",
        "# Initialize a counter for combinations\n",
        "total_combinations = 0\n",
        "# Iterate over the faces of the first die\n",
        "for i in faces:\n",
        "    # Iterate over the faces of the second die\n",
        "    for j in faces:\n",
        "        # Increment the counter for each combination\n",
        "        total_combinations += 1\n",
        "# Print the total number of combinations\n",
        "print(\"Total number of combinations for 2 dice:\", total_combinations)\n"
      ],
      "metadata": {
        "colab": {
          "base_uri": "https://localhost:8080/"
        },
        "id": "InimS8g0WbMG",
        "outputId": "404b71ce-7837-4235-d184-6b185cabd363"
      },
      "execution_count": null,
      "outputs": [
        {
          "output_type": "stream",
          "name": "stdout",
          "text": [
            "Total number of combinations for 2 dice: 36\n"
          ]
        }
      ]
    },
    {
      "cell_type": "code",
      "source": [
        "#PART A\n",
        "#2\n",
        "import numpy as np\n",
        "list=[]\n",
        "def print_dice_combinations():\n",
        "    for i in range(1, 7):\n",
        "        for j in range(1, 7):\n",
        "          list.append((i,j))\n",
        "print_dice_combinations()\n",
        "#converting list to a matrix\n",
        "matrix=[list[i:i+6] for i in range(0, len(list), 6)]\n",
        "# Print the matrix\n",
        "for row in matrix:\n",
        "    print(row)"
      ],
      "metadata": {
        "colab": {
          "base_uri": "https://localhost:8080/"
        },
        "id": "wzKuYW8VWiW9",
        "outputId": "5b4a1fad-f553-49bc-99a3-3d22f05daa70"
      },
      "execution_count": null,
      "outputs": [
        {
          "output_type": "stream",
          "name": "stdout",
          "text": [
            "[(1, 1), (1, 2), (1, 3), (1, 4), (1, 5), (1, 6)]\n",
            "[(2, 1), (2, 2), (2, 3), (2, 4), (2, 5), (2, 6)]\n",
            "[(3, 1), (3, 2), (3, 3), (3, 4), (3, 5), (3, 6)]\n",
            "[(4, 1), (4, 2), (4, 3), (4, 4), (4, 5), (4, 6)]\n",
            "[(5, 1), (5, 2), (5, 3), (5, 4), (5, 5), (5, 6)]\n",
            "[(6, 1), (6, 2), (6, 3), (6, 4), (6, 5), (6, 6)]\n"
          ]
        }
      ]
    },
    {
      "cell_type": "code",
      "source": [
        "#PART A\n",
        "#3\n",
        "import numpy as np\n",
        "list=[]\n",
        "fav=[]\n",
        "def sum_of_combinations(n):\n",
        "    for i in range(1, n+1):\n",
        "        for j in range(1, n+1):\n",
        "          list.append(i+j)\n",
        "def probability(array,list):\n",
        "  for x in array:\n",
        "    favourable=list.count(x)\n",
        "    fav.append(favourable)\n",
        "    print(\"Probability(sum=\",x,\")=\",favourable,\"/36=\",favourable/36)\n",
        "sum_of_combinations(6)\n",
        "arr=np.array(list)\n",
        "sum_array=np.unique(arr)\n",
        "probability(sum_array,list)"
      ],
      "metadata": {
        "colab": {
          "base_uri": "https://localhost:8080/"
        },
        "id": "mDV50DW5_aOp",
        "outputId": "c8b22c9a-e3f2-44d0-a28f-3f07f6186119"
      },
      "execution_count": null,
      "outputs": [
        {
          "output_type": "stream",
          "name": "stdout",
          "text": [
            "Probability(sum= 2 )= 1 /36= 0.027777777777777776\n",
            "Probability(sum= 3 )= 2 /36= 0.05555555555555555\n",
            "Probability(sum= 4 )= 3 /36= 0.08333333333333333\n",
            "Probability(sum= 5 )= 4 /36= 0.1111111111111111\n",
            "Probability(sum= 6 )= 5 /36= 0.1388888888888889\n",
            "Probability(sum= 7 )= 6 /36= 0.16666666666666666\n",
            "Probability(sum= 8 )= 5 /36= 0.1388888888888889\n",
            "Probability(sum= 9 )= 4 /36= 0.1111111111111111\n",
            "Probability(sum= 10 )= 3 /36= 0.08333333333333333\n",
            "Probability(sum= 11 )= 2 /36= 0.05555555555555555\n",
            "Probability(sum= 12 )= 1 /36= 0.027777777777777776\n"
          ]
        }
      ]
    },
    {
      "cell_type": "code",
      "source": [
        "#PART B\n",
        "# Initialize lists a and b\n",
        "import numpy as np\n",
        "new_a = []\n",
        "new_b = []\n",
        "# Get input for list a\n",
        "print(\"Enter the 6 faces for dice A (spots<= 4):\")\n",
        "for i in range(6):\n",
        "    while True:\n",
        "        element = int(input(f\"Enter spots for face {i + 1}: \"))\n",
        "        if element <= 4:\n",
        "            new_a.append(element)\n",
        "            break\n",
        "        else:\n",
        "            print(\"spots in dice A should be <= 4. Try again.\")\n",
        "# Get input for list b\n",
        "print(\"\\nEnter 6 faces for dice b:\")\n",
        "for i in range(6):\n",
        "    element = int(input(f\"Enter spots for face {i + 1}: \"))\n",
        "    new_b.append(element)\n",
        "    #check if the total spots are same\n",
        "if sum(new_a)+sum(new_b)!=42:\n",
        "  print(\"The total spots are not satisfied\")\n",
        "# Print the lists\n",
        "print(\"\\n new dice:\",new_a)\n",
        "print(\"\\n new dice b:\",new_b)\n",
        "def sum_of_combinations(a,b):\n",
        "    for i in a:\n",
        "        for j in b:\n",
        "          list.append(i+j)\n",
        "list=[]\n",
        "original_favourable=[1, 2, 3, 4, 5, 6, 5, 4, 3, 2, 1]\n",
        "sum_of_combinations(new_a,new_b)\n",
        "arr=np.array(list)\n",
        "sum_array=np.unique(arr)\n",
        "for x in sum_array:\n",
        "  favourable=list.count(x)\n",
        "  fav.append(favourable)\n",
        "print(fav)\n",
        "if fav==original_favourable:\n",
        "  print(\"The spots on the dice have been successfully reattached\")\n",
        "else:\n",
        "  print(\"The spots on the dice have not been reattached correctly\")\n",
        "\n"
      ],
      "metadata": {
        "colab": {
          "base_uri": "https://localhost:8080/"
        },
        "id": "qITgKiRfMWOm",
        "outputId": "7f4542c4-9796-4da6-cb5d-ca8b7f1cdd38"
      },
      "execution_count": null,
      "outputs": [
        {
          "output_type": "stream",
          "name": "stdout",
          "text": [
            "Enter the 6 faces for dice A (spots<= 4):\n",
            "Enter spots for face 1: 1\n",
            "Enter spots for face 2: 2\n",
            "Enter spots for face 3: 3\n",
            "Enter spots for face 4: 4\n",
            "Enter spots for face 5: 5\n",
            "spots in dice A should be <= 4. Try again.\n",
            "Enter spots for face 5: 2\n",
            "Enter spots for face 6: 3\n",
            "\n",
            "Enter 6 faces for dice b:\n",
            "Enter spots for face 1: 1\n",
            "Enter spots for face 2: 6\n",
            "Enter spots for face 3: 3\n",
            "Enter spots for face 4: 7\n",
            "Enter spots for face 5: 4\n",
            "Enter spots for face 6: 9\n",
            "The total spots are not satisfied\n",
            "\n",
            " new dice: [1, 2, 3, 4, 2, 3]\n",
            "\n",
            " new dice b: [1, 6, 3, 7, 4, 9]\n",
            "[2, 5, 7, 6, 3, 3, 4, 4, 2, 1, 2, 3, 4, 4, 4, 4, 4, 4, 3, 2, 1]\n",
            "The spots on the dice have not been reattached correctly\n"
          ]
        }
      ]
    },
    {
      "cell_type": "code",
      "source": [],
      "metadata": {
        "id": "TgCgppwXY3Yk"
      },
      "execution_count": null,
      "outputs": []
    }
  ]
}